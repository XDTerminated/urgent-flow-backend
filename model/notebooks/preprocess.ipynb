{
 "cells": [
  {
   "cell_type": "code",
   "execution_count": 2,
   "metadata": {},
   "outputs": [],
   "source": [
    "import pandas as pd\n",
    "import pyreadr\n"
   ]
  },
  {
   "cell_type": "code",
   "execution_count": 33,
   "metadata": {},
   "outputs": [],
   "source": [
    "result = pyreadr.read_r(\"../../data/raw/5v_cleandf.rdata\") # Read .rdata file\n",
    "df = result['df'] # Convert R data to pandas DataFrame"
   ]
  },
  {
   "cell_type": "code",
   "execution_count": 34,
   "metadata": {},
   "outputs": [],
   "source": [
    "df.to_csv(\"../../data/raw/triage.csv\",index=False)"
   ]
  },
  {
   "cell_type": "code",
   "execution_count": 58,
   "metadata": {},
   "outputs": [
    {
     "name": "stdout",
     "output_type": "stream",
     "text": [
      "492\n"
     ]
    }
   ],
   "source": [
    "df = pd.read_csv(\"../../data/raw/triage.csv\")\n",
    "\n",
    "df.shape\n",
    "columns_to_keep = [\"esi\", \"age\", \"gender\", \"arrivalmode\", \"previousdispo\", \"triage_vital_hr\", \"triage_vital_rr\", \"triage_vital_sbp\", \"triage_vital_dbp\", \"triage_vital_o2\", \"triage_vital_temp\", \"2ndarymalig\",\"abdomhernia\",\"abdomnlpain\",\"abortcompl\",\"acqfootdef\",\"acrenlfail\",\"acutecvd\",\"acutemi\",\"acutphanm\",\"adjustmentdisorders\",\"adltrespfl\",\"alcoholrelateddisorders\",\"allergy\",\"amniosdx\",\"analrectal\",\"anemia\",\"aneurysm\",\"anxietydisorders\",\"appendicitis\",\"artembolism\",\"asppneumon\",\"asthma\",\"attentiondeficitconductdisruptivebeha\",\"backproblem\",\"biliarydx\",\"birthasphyx\",\"birthtrauma\",\"bladdercncr\",\"blindness\",\"bnignutneo\",\"bonectcncr\",\"bph\",\"brainnscan\",\"breastcancr\",\"breastdx\",\"brnchlngca\",\"bronchitis\",\"burns\",\"cardiaarrst\",\"cardiacanom\",\"carditis\",\"cataract\",\"cervixcancr\",\"chestpain\",\"chfnonhp\",\"chrkidneydisease\",\"coaghemrdx\",\"coloncancer\",\"comabrndmg\",\"complicdevi\",\"complicproc\",\"conduction\",\"contraceptiv\",\"copd\",\"coronathero\",\"crushinjury\",\"cysticfibro\",\"deliriumdementiaamnesticothercognitiv\",\"developmentaldisorders\",\"diabmelnoc\",\"diabmelwcm\",\"disordersusuallydiagnosedininfancych\",\"diverticulos\",\"dizziness\",\"dminpreg\",\"dysrhythmia\",\"earlylabor\",\"ecodesadverseeffectsofmedicalcare\",\"ecodesadverseeffectsofmedicaldrugs\",\"ecodescutpierce\",\"ecodesdrowningsubmersion\",\"ecodesfall\",\"ecodesfirearm\",\"ecodesfireburn\",\"ecodesmachinery\",\"ecodesmotorvehicletrafficmvt\",\"ecodesnaturalenvironment\",\"ecodesotherspecifiedandclassifiable\",\"ecodesotherspecifiednec\",\"ecodespedalcyclistnotmvt\",\"ecodesplaceofoccurrence\",\"ecodespoisoning\",\"ecodesstruckbyagainst\",\"ecodessuffocation\",\"ecodestransportnotmvt\",\"ecodesunspecified\",\"ectopicpreg\",\"encephalitis\",\"endometrios\",\"epilepsycnv\",\"esophcancer\",\"esophgealdx\",\"exameval\",\"eyeinfectn\",\"fatigue\",\"femgenitca\",\"feminfertil\",\"fetaldistrs\",\"fluidelcdx\",\"fuo\",\"fxarm\",\"fxhip\",\"fxleg\",\"fxskullfac\",\"gangrene\",\"gasduoulcer\",\"gastritis\",\"gastroent\",\"giconganom\",\"gihemorrhag\",\"giperitcan\",\"glaucoma\",\"goutotcrys\",\"guconganom\",\"hdnckcancr\",\"headachemig\",\"hemmorhoids\",\"hemorrpreg\",\"hepatitis\",\"hivinfectn\",\"hodgkinsds\",\"hrtvalvedx\",\"htn\",\"htncomplicn\",\"htninpreg\",\"hyperlipidem\",\"immunitydx\",\"immunizscrn\",\"impulsecontroldisordersnec\",\"inducabortn\",\"infectarth\",\"influenza\",\"infmalegen\",\"intestinfct\",\"intobstruct\",\"intracrninj\",\"jointinjury\",\"kidnyrnlca\",\"lateeffcvd\",\"leukemias\",\"liveborn\",\"liveribdca\",\"longpregncy\",\"lowbirthwt\",\"lungexternl\",\"lymphenlarg\",\"maintchemr\",\"malgenitca\",\"maligneopls\",\"malposition\",\"meningitis\",\"menopausldx\",\"menstrualdx\",\"miscellaneousmentalhealthdisorders\",\"mooddisorders\",\"mouthdx\",\"ms\",\"multmyeloma\",\"mycoses\",\"nauseavomit\",\"neoplsmunsp\",\"nephritis\",\"nervcongan\",\"nonepithca\",\"nonhodglym\",\"nutritdefic\",\"obrelatedperintrauma\",\"opnwndextr\",\"opnwndhead\",\"osteoarthros\",\"osteoporosis\",\"otacqdefor\",\"otaftercare\",\"otbnignneo\",\"otbonedx\",\"otcirculdx\",\"otcomplbir\",\"otconganom\",\"otconntiss\",\"otdxbladdr\",\"otdxkidney\",\"otdxstomch\",\"otendodsor\",\"otfemalgen\",\"othbactinf\",\"othcnsinfx\",\"othematldx\",\"othercvd\",\"othereardx\",\"otheredcns\",\"othereyedx\",\"othergidx\",\"othergudx\",\"otherinjury\",\"otherpregnancyanddeliveryincludingnormal\",\"otherscreen\",\"othfracture\",\"othheartdx\",\"othinfectns\",\"othliverdx\",\"othlowresp\",\"othmalegen\",\"othnervdx\",\"othskindx\",\"othveindx\",\"otinflskin\",\"otitismedia\",\"otjointdx\",\"otnutritdx\",\"otperintdx\",\"otpregcomp\",\"otprimryca\",\"otrespirca\",\"otupprresp\",\"otuprspin\",\"ovariancyst\",\"ovarycancer\",\"pancreascan\",\"pancreasdx\",\"paralysis\",\"parkinsons\",\"pathologfx\",\"pelvicobstr\",\"perintjaund\",\"peripathero\",\"peritonitis\",\"personalitydisorders\",\"phlebitis\",\"pid\",\"pleurisy\",\"pneumonia\",\"poisnnonmed\",\"poisnotmed\",\"poisonpsych\",\"precereoccl\",\"prevcsectn\",\"prolapse\",\"prostatecan\",\"pulmhartdx\",\"rctmanusca\",\"rehab\",\"respdistres\",\"retinaldx\",\"rheumarth\",\"schizophreniaandotherpsychoticdisorde\",\"screeningandhistoryofmentalhealthan\",\"septicemia\",\"septicemiaexceptinlabor\",\"sexualinfxs\",\"shock\",\"sicklecell\",\"skininfectn\",\"skinmelanom\",\"sle\",\"socialadmin\",\"spincorinj\",\"spontabortn\",\"sprain\",\"stomchcancr\",\"substancerelateddisorders\",\"suicideandintentionalselfinflictedin\",\"superficinj\",\"syncope\",\"teethdx\",\"testiscancr\",\"thyroidcncr\",\"thyroiddsor\",\"tia\",\"tonsillitis\",\"tuberculosis\",\"ulceratcol\",\"ulcerskin\",\"umbilcord\",\"unclassified\",\"urinstone\",\"urinyorgca\",\"uteruscancr\",\"uti\",\"varicosevn\",\"viralinfect\",\"whtblooddx\", \"cc_abdominalcramping\",\"cc_abdominaldistention\",\"cc_abdominalpain\",\"cc_abdominalpainpregnant\",\"cc_abnormallab\",\"cc_abscess\",\"cc_addictionproblem\",\"cc_agitation\",\"cc_alcoholintoxication\",\"cc_alcoholproblem\",\"cc_allergicreaction\",\"cc_alteredmentalstatus\",\"cc_animalbite\",\"cc_ankleinjury\",\"cc_anklepain\",\"cc_anxiety\",\"cc_arminjury\",\"cc_armpain\",\"cc_armswelling\",\"cc_assaultvictim\",\"cc_asthma\",\"cc_backpain\",\"cc_bleeding/bruising\",\"cc_blurredvision\",\"cc_bodyfluidexposure\",\"cc_breastpain\",\"cc_breathingdifficulty\",\"cc_breathingproblem\",\"cc_burn\",\"cc_cardiacarrest\",\"cc_cellulitis\",\"cc_chestpain\",\"cc_chesttightness\",\"cc_chills\",\"cc_coldlikesymptoms\",\"cc_confusion\",\"cc_conjunctivitis\",\"cc_constipation\",\"cc_cough\",\"cc_cyst\",\"cc_decreasedbloodsugar-symptomatic\",\"cc_dehydration\",\"cc_dentalpain\",\"cc_depression\",\"cc_detoxevaluation\",\"cc_diarrhea\",\"cc_dizziness\",\"cc_drug/alcoholassessment\",\"cc_drugproblem\",\"cc_dyspnea\",\"cc_dysuria\",\"cc_earpain\",\"cc_earproblem\",\"cc_edema\",\"cc_elbowpain\",\"cc_elevatedbloodsugar-nosymptoms\",\"cc_elevatedbloodsugar-symptomatic\",\"cc_emesis\",\"cc_epigastricpain\",\"cc_epistaxis\",\"cc_exposuretostd\",\"cc_extremitylaceration\",\"cc_extremityweakness\",\"cc_eyeinjury\",\"cc_eyepain\",\"cc_eyeproblem\",\"cc_eyeredness\",\"cc_facialinjury\",\"cc_faciallaceration\",\"cc_facialpain\",\"cc_facialswelling\",\"cc_fall\",\"cc_fall>65\",\"cc_fatigue\",\"cc_femaleguproblem\",\"cc_fever\",\"cc_fever-75yearsorolder\",\"cc_fever-9weeksto74years\",\"cc_feverimmunocompromised\",\"cc_fingerinjury\",\"cc_fingerpain\",\"cc_fingerswelling\",\"cc_flankpain\",\"cc_follow-upcellulitis\",\"cc_footinjury\",\"cc_footpain\",\"cc_footswelling\",\"cc_foreignbodyineye\",\"cc_fulltrauma\",\"cc_generalizedbodyaches\",\"cc_gibleeding\",\"cc_giproblem\",\"cc_groinpain\",\"cc_hallucinations\",\"cc_handinjury\",\"cc_handpain\",\"cc_headache\",\"cc_headache-newonsetornewsymptoms\",\"cc_headache-recurrentorknowndxmigraines\",\"cc_headachere-evaluation\",\"cc_headinjury\",\"cc_headlaceration\",\"cc_hematuria\",\"cc_hemoptysis\",\"cc_hippain\",\"cc_homicidal\",\"cc_hyperglycemia\",\"cc_hypertension\",\"cc_hypotension\",\"cc_influenza\",\"cc_ingestion\",\"cc_insectbite\",\"cc_irregularheartbeat\",\"cc_jawpain\",\"cc_jointswelling\",\"cc_kneeinjury\",\"cc_kneepain\",\"cc_laceration\",\"cc_leginjury\",\"cc_legpain\",\"cc_legswelling\",\"cc_lethargy\",\"cc_lossofconsciousness\",\"cc_maleguproblem\",\"cc_mass\",\"cc_medicalproblem\",\"cc_medicalscreening\",\"cc_medicationproblem\",\"cc_medicationrefill\",\"cc_migraine\",\"cc_modifiedtrauma\",\"cc_motorcyclecrash\",\"cc_motorvehiclecrash\",\"cc_multiplefalls\",\"cc_nasalcongestion\",\"cc_nausea\",\"cc_nearsyncope\",\"cc_neckpain\",\"cc_neurologicproblem\",\"cc_numbness\",\"cc_oralswelling\",\"cc_otalgia\",\"cc_other\",\"cc_overdose-accidental\",\"cc_overdose-intentional\",\"cc_pain\",\"cc_palpitations\",\"cc_panicattack\",\"cc_pelvicpain\",\"cc_poisoning\",\"cc_post-opproblem\",\"cc_psychiatricevaluation\",\"cc_psychoticsymptoms\",\"cc_rapidheartrate\",\"cc_rash\",\"cc_rectalbleeding\",\"cc_rectalpain\",\"cc_respiratorydistress\",\"cc_ribinjury\",\"cc_ribpain\",\"cc_seizure-newonset\",\"cc_seizure-priorhxof\",\"cc_seizures\",\"cc_shortnessofbreath\",\"cc_shoulderinjury\",\"cc_shoulderpain\",\"cc_sicklecellpain\",\"cc_sinusproblem\",\"cc_skinirritation\",\"cc_skinproblem\",\"cc_sorethroat\",\"cc_stdcheck\",\"cc_strokealert\",\"cc_suicidal\",\"cc_suture/stapleremoval\",\"cc_swallowedforeignbody\",\"cc_syncope\",\"cc_tachycardia\",\"cc_testiclepain\",\"cc_thumbinjury\",\"cc_tickremoval\",\"cc_toeinjury\",\"cc_toepain\",\"cc_trauma\",\"cc_unresponsive\",\"cc_uri\",\"cc_urinaryfrequency\",\"cc_urinaryretention\",\"cc_urinarytractinfection\",\"cc_vaginalbleeding\",\"cc_vaginaldischarge\",\"cc_vaginalpain\",\"cc_weakness\",\"cc_wheezing\",\"cc_withdrawal-alcohol\",\"cc_woundcheck\",\"cc_woundinfection\",\"cc_woundre-evaluation\",\"cc_wristinjury\",\"cc_wristpain\"]\n",
    "\n",
    "print(len(columns_to_keep))\n"
   ]
  },
  {
   "cell_type": "code",
   "execution_count": 59,
   "metadata": {},
   "outputs": [
    {
     "name": "stdout",
     "output_type": "stream",
     "text": [
      "(560486, 492)\n"
     ]
    }
   ],
   "source": [
    "columns = df.columns\n",
    "\n",
    "columns_to_delete = []\n",
    "columns_to_keep = [\"esi\", \"age\", \"gender\", \"arrivalmode\", \"previousdispo\", \"triage_vital_hr\", \"triage_vital_rr\", \"triage_vital_sbp\", \"triage_vital_dbp\", \"triage_vital_o2\", \"triage_vital_temp\", \"2ndarymalig\",\"abdomhernia\",\"abdomnlpain\",\"abortcompl\",\"acqfootdef\",\"acrenlfail\",\"acutecvd\",\"acutemi\",\"acutphanm\",\"adjustmentdisorders\",\"adltrespfl\",\"alcoholrelateddisorders\",\"allergy\",\"amniosdx\",\"analrectal\",\"anemia\",\"aneurysm\",\"anxietydisorders\",\"appendicitis\",\"artembolism\",\"asppneumon\",\"asthma\",\"attentiondeficitconductdisruptivebeha\",\"backproblem\",\"biliarydx\",\"birthasphyx\",\"birthtrauma\",\"bladdercncr\",\"blindness\",\"bnignutneo\",\"bonectcncr\",\"bph\",\"brainnscan\",\"breastcancr\",\"breastdx\",\"brnchlngca\",\"bronchitis\",\"burns\",\"cardiaarrst\",\"cardiacanom\",\"carditis\",\"cataract\",\"cervixcancr\",\"chestpain\",\"chfnonhp\",\"chrkidneydisease\",\"coaghemrdx\",\"coloncancer\",\"comabrndmg\",\"complicdevi\",\"complicproc\",\"conduction\",\"contraceptiv\",\"copd\",\"coronathero\",\"crushinjury\",\"cysticfibro\",\"deliriumdementiaamnesticothercognitiv\",\"developmentaldisorders\",\"diabmelnoc\",\"diabmelwcm\",\"disordersusuallydiagnosedininfancych\",\"diverticulos\",\"dizziness\",\"dminpreg\",\"dysrhythmia\",\"earlylabor\",\"ecodesadverseeffectsofmedicalcare\",\"ecodesadverseeffectsofmedicaldrugs\",\"ecodescutpierce\",\"ecodesdrowningsubmersion\",\"ecodesfall\",\"ecodesfirearm\",\"ecodesfireburn\",\"ecodesmachinery\",\"ecodesmotorvehicletrafficmvt\",\"ecodesnaturalenvironment\",\"ecodesotherspecifiedandclassifiable\",\"ecodesotherspecifiednec\",\"ecodespedalcyclistnotmvt\",\"ecodesplaceofoccurrence\",\"ecodespoisoning\",\"ecodesstruckbyagainst\",\"ecodessuffocation\",\"ecodestransportnotmvt\",\"ecodesunspecified\",\"ectopicpreg\",\"encephalitis\",\"endometrios\",\"epilepsycnv\",\"esophcancer\",\"esophgealdx\",\"exameval\",\"eyeinfectn\",\"fatigue\",\"femgenitca\",\"feminfertil\",\"fetaldistrs\",\"fluidelcdx\",\"fuo\",\"fxarm\",\"fxhip\",\"fxleg\",\"fxskullfac\",\"gangrene\",\"gasduoulcer\",\"gastritis\",\"gastroent\",\"giconganom\",\"gihemorrhag\",\"giperitcan\",\"glaucoma\",\"goutotcrys\",\"guconganom\",\"hdnckcancr\",\"headachemig\",\"hemmorhoids\",\"hemorrpreg\",\"hepatitis\",\"hivinfectn\",\"hodgkinsds\",\"hrtvalvedx\",\"htn\",\"htncomplicn\",\"htninpreg\",\"hyperlipidem\",\"immunitydx\",\"immunizscrn\",\"impulsecontroldisordersnec\",\"inducabortn\",\"infectarth\",\"influenza\",\"infmalegen\",\"intestinfct\",\"intobstruct\",\"intracrninj\",\"jointinjury\",\"kidnyrnlca\",\"lateeffcvd\",\"leukemias\",\"liveborn\",\"liveribdca\",\"longpregncy\",\"lowbirthwt\",\"lungexternl\",\"lymphenlarg\",\"maintchemr\",\"malgenitca\",\"maligneopls\",\"malposition\",\"meningitis\",\"menopausldx\",\"menstrualdx\",\"miscellaneousmentalhealthdisorders\",\"mooddisorders\",\"mouthdx\",\"ms\",\"multmyeloma\",\"mycoses\",\"nauseavomit\",\"neoplsmunsp\",\"nephritis\",\"nervcongan\",\"nonepithca\",\"nonhodglym\",\"nutritdefic\",\"obrelatedperintrauma\",\"opnwndextr\",\"opnwndhead\",\"osteoarthros\",\"osteoporosis\",\"otacqdefor\",\"otaftercare\",\"otbnignneo\",\"otbonedx\",\"otcirculdx\",\"otcomplbir\",\"otconganom\",\"otconntiss\",\"otdxbladdr\",\"otdxkidney\",\"otdxstomch\",\"otendodsor\",\"otfemalgen\",\"othbactinf\",\"othcnsinfx\",\"othematldx\",\"othercvd\",\"othereardx\",\"otheredcns\",\"othereyedx\",\"othergidx\",\"othergudx\",\"otherinjury\",\"otherpregnancyanddeliveryincludingnormal\",\"otherscreen\",\"othfracture\",\"othheartdx\",\"othinfectns\",\"othliverdx\",\"othlowresp\",\"othmalegen\",\"othnervdx\",\"othskindx\",\"othveindx\",\"otinflskin\",\"otitismedia\",\"otjointdx\",\"otnutritdx\",\"otperintdx\",\"otpregcomp\",\"otprimryca\",\"otrespirca\",\"otupprresp\",\"otuprspin\",\"ovariancyst\",\"ovarycancer\",\"pancreascan\",\"pancreasdx\",\"paralysis\",\"parkinsons\",\"pathologfx\",\"pelvicobstr\",\"perintjaund\",\"peripathero\",\"peritonitis\",\"personalitydisorders\",\"phlebitis\",\"pid\",\"pleurisy\",\"pneumonia\",\"poisnnonmed\",\"poisnotmed\",\"poisonpsych\",\"precereoccl\",\"prevcsectn\",\"prolapse\",\"prostatecan\",\"pulmhartdx\",\"rctmanusca\",\"rehab\",\"respdistres\",\"retinaldx\",\"rheumarth\",\"schizophreniaandotherpsychoticdisorde\",\"screeningandhistoryofmentalhealthan\",\"septicemia\",\"septicemiaexceptinlabor\",\"sexualinfxs\",\"shock\",\"sicklecell\",\"skininfectn\",\"skinmelanom\",\"sle\",\"socialadmin\",\"spincorinj\",\"spontabortn\",\"sprain\",\"stomchcancr\",\"substancerelateddisorders\",\"suicideandintentionalselfinflictedin\",\"superficinj\",\"syncope\",\"teethdx\",\"testiscancr\",\"thyroidcncr\",\"thyroiddsor\",\"tia\",\"tonsillitis\",\"tuberculosis\",\"ulceratcol\",\"ulcerskin\",\"umbilcord\",\"unclassified\",\"urinstone\",\"urinyorgca\",\"uteruscancr\",\"uti\",\"varicosevn\",\"viralinfect\",\"whtblooddx\", \"cc_abdominalcramping\",\"cc_abdominaldistention\",\"cc_abdominalpain\",\"cc_abdominalpainpregnant\",\"cc_abnormallab\",\"cc_abscess\",\"cc_addictionproblem\",\"cc_agitation\",\"cc_alcoholintoxication\",\"cc_alcoholproblem\",\"cc_allergicreaction\",\"cc_alteredmentalstatus\",\"cc_animalbite\",\"cc_ankleinjury\",\"cc_anklepain\",\"cc_anxiety\",\"cc_arminjury\",\"cc_armpain\",\"cc_armswelling\",\"cc_assaultvictim\",\"cc_asthma\",\"cc_backpain\",\"cc_bleeding/bruising\",\"cc_blurredvision\",\"cc_bodyfluidexposure\",\"cc_breastpain\",\"cc_breathingdifficulty\",\"cc_breathingproblem\",\"cc_burn\",\"cc_cardiacarrest\",\"cc_cellulitis\",\"cc_chestpain\",\"cc_chesttightness\",\"cc_chills\",\"cc_coldlikesymptoms\",\"cc_confusion\",\"cc_conjunctivitis\",\"cc_constipation\",\"cc_cough\",\"cc_cyst\",\"cc_decreasedbloodsugar-symptomatic\",\"cc_dehydration\",\"cc_dentalpain\",\"cc_depression\",\"cc_detoxevaluation\",\"cc_diarrhea\",\"cc_dizziness\",\"cc_drug/alcoholassessment\",\"cc_drugproblem\",\"cc_dyspnea\",\"cc_dysuria\",\"cc_earpain\",\"cc_earproblem\",\"cc_edema\",\"cc_elbowpain\",\"cc_elevatedbloodsugar-nosymptoms\",\"cc_elevatedbloodsugar-symptomatic\",\"cc_emesis\",\"cc_epigastricpain\",\"cc_epistaxis\",\"cc_exposuretostd\",\"cc_extremitylaceration\",\"cc_extremityweakness\",\"cc_eyeinjury\",\"cc_eyepain\",\"cc_eyeproblem\",\"cc_eyeredness\",\"cc_facialinjury\",\"cc_faciallaceration\",\"cc_facialpain\",\"cc_facialswelling\",\"cc_fall\",\"cc_fall>65\",\"cc_fatigue\",\"cc_femaleguproblem\",\"cc_fever\",\"cc_fever-75yearsorolder\",\"cc_fever-9weeksto74years\",\"cc_feverimmunocompromised\",\"cc_fingerinjury\",\"cc_fingerpain\",\"cc_fingerswelling\",\"cc_flankpain\",\"cc_follow-upcellulitis\",\"cc_footinjury\",\"cc_footpain\",\"cc_footswelling\",\"cc_foreignbodyineye\",\"cc_fulltrauma\",\"cc_generalizedbodyaches\",\"cc_gibleeding\",\"cc_giproblem\",\"cc_groinpain\",\"cc_hallucinations\",\"cc_handinjury\",\"cc_handpain\",\"cc_headache\",\"cc_headache-newonsetornewsymptoms\",\"cc_headache-recurrentorknowndxmigraines\",\"cc_headachere-evaluation\",\"cc_headinjury\",\"cc_headlaceration\",\"cc_hematuria\",\"cc_hemoptysis\",\"cc_hippain\",\"cc_homicidal\",\"cc_hyperglycemia\",\"cc_hypertension\",\"cc_hypotension\",\"cc_influenza\",\"cc_ingestion\",\"cc_insectbite\",\"cc_irregularheartbeat\",\"cc_jawpain\",\"cc_jointswelling\",\"cc_kneeinjury\",\"cc_kneepain\",\"cc_laceration\",\"cc_leginjury\",\"cc_legpain\",\"cc_legswelling\",\"cc_lethargy\",\"cc_lossofconsciousness\",\"cc_maleguproblem\",\"cc_mass\",\"cc_medicalproblem\",\"cc_medicalscreening\",\"cc_medicationproblem\",\"cc_medicationrefill\",\"cc_migraine\",\"cc_modifiedtrauma\",\"cc_motorcyclecrash\",\"cc_motorvehiclecrash\",\"cc_multiplefalls\",\"cc_nasalcongestion\",\"cc_nausea\",\"cc_nearsyncope\",\"cc_neckpain\",\"cc_neurologicproblem\",\"cc_numbness\",\"cc_oralswelling\",\"cc_otalgia\",\"cc_other\",\"cc_overdose-accidental\",\"cc_overdose-intentional\",\"cc_pain\",\"cc_palpitations\",\"cc_panicattack\",\"cc_pelvicpain\",\"cc_poisoning\",\"cc_post-opproblem\",\"cc_psychiatricevaluation\",\"cc_psychoticsymptoms\",\"cc_rapidheartrate\",\"cc_rash\",\"cc_rectalbleeding\",\"cc_rectalpain\",\"cc_respiratorydistress\",\"cc_ribinjury\",\"cc_ribpain\",\"cc_seizure-newonset\",\"cc_seizure-priorhxof\",\"cc_seizures\",\"cc_shortnessofbreath\",\"cc_shoulderinjury\",\"cc_shoulderpain\",\"cc_sicklecellpain\",\"cc_sinusproblem\",\"cc_skinirritation\",\"cc_skinproblem\",\"cc_sorethroat\",\"cc_stdcheck\",\"cc_strokealert\",\"cc_suicidal\",\"cc_suture/stapleremoval\",\"cc_swallowedforeignbody\",\"cc_syncope\",\"cc_tachycardia\",\"cc_testiclepain\",\"cc_thumbinjury\",\"cc_tickremoval\",\"cc_toeinjury\",\"cc_toepain\",\"cc_trauma\",\"cc_unresponsive\",\"cc_uri\",\"cc_urinaryfrequency\",\"cc_urinaryretention\",\"cc_urinarytractinfection\",\"cc_vaginalbleeding\",\"cc_vaginaldischarge\",\"cc_vaginalpain\",\"cc_weakness\",\"cc_wheezing\",\"cc_withdrawal-alcohol\",\"cc_woundcheck\",\"cc_woundinfection\",\"cc_woundre-evaluation\",\"cc_wristinjury\",\"cc_wristpain\"]\n",
    "\n",
    "for column in columns:\n",
    "    if column not in columns_to_keep:\n",
    "        columns_to_delete.append(column)\n",
    "\n",
    "df = df.drop(columns=columns_to_delete, axis=1, inplace=False)\n",
    "\n",
    "\n",
    "print(df.shape)\n"
   ]
  },
  {
   "cell_type": "code",
   "execution_count": 60,
   "metadata": {},
   "outputs": [
    {
     "name": "stdout",
     "output_type": "stream",
     "text": [
      "(264020, 492)\n"
     ]
    }
   ],
   "source": [
    "df.dropna(inplace=True)\n",
    "print(df.shape)"
   ]
  },
  {
   "cell_type": "code",
   "execution_count": 61,
   "metadata": {},
   "outputs": [
    {
     "name": "stdout",
     "output_type": "stream",
     "text": [
      "   esi   age  gender arrivalmode      previousdispo  2ndarymalig  abdomhernia  \\\n",
      "0  4.0  40.0       0     Walk-in  No previous dispo          0.0          0.0   \n",
      "2  2.0  66.0       0     Walk-in          Discharge          0.0          0.0   \n",
      "4  3.0  84.0       1     Walk-in          Discharge          0.0          0.0   \n",
      "5  3.0  86.0       1     Walk-in              Admit          0.0          0.0   \n",
      "7  4.0  87.0       1         Car              Admit          0.0          0.0   \n",
      "\n",
      "   abdomnlpain  abortcompl  acqfootdef  ...  cc_vaginaldischarge  \\\n",
      "0          0.0         0.0         0.0  ...                  0.0   \n",
      "2          0.0         0.0         0.0  ...                  0.0   \n",
      "4          0.0         0.0         0.0  ...                  0.0   \n",
      "5          0.0         0.0         0.0  ...                  0.0   \n",
      "7          0.0         0.0         0.0  ...                  0.0   \n",
      "\n",
      "   cc_vaginalpain  cc_weakness  cc_wheezing  cc_withdrawal-alcohol  \\\n",
      "0             0.0          0.0          0.0                    0.0   \n",
      "2             0.0          0.0          0.0                    0.0   \n",
      "4             0.0          0.0          0.0                    0.0   \n",
      "5             0.0          0.0          0.0                    0.0   \n",
      "7             0.0          0.0          0.0                    0.0   \n",
      "\n",
      "   cc_woundcheck  cc_woundinfection  cc_woundre-evaluation  cc_wristinjury  \\\n",
      "0            0.0                0.0                    0.0             0.0   \n",
      "2            0.0                0.0                    0.0             0.0   \n",
      "4            0.0                0.0                    0.0             0.0   \n",
      "5            0.0                0.0                    0.0             0.0   \n",
      "7            0.0                0.0                    0.0             0.0   \n",
      "\n",
      "   cc_wristpain  \n",
      "0           0.0  \n",
      "2           0.0  \n",
      "4           0.0  \n",
      "5           0.0  \n",
      "7           0.0  \n",
      "\n",
      "[5 rows x 492 columns]\n"
     ]
    }
   ],
   "source": [
    "df['gender'] = df['gender'].map({'Male': 0, 'Female': 1})\n",
    "print(df.head())"
   ]
  },
  {
   "cell_type": "code",
   "execution_count": 62,
   "metadata": {},
   "outputs": [],
   "source": [
    "df.to_csv(\"../../data/processed/triage_cleaned.csv\",index=False)"
   ]
  },
  {
   "cell_type": "code",
   "execution_count": 7,
   "metadata": {},
   "outputs": [],
   "source": [
    "df = pd.read_csv(\"../../../data/processed/triage_cleaned.csv\")"
   ]
  },
  {
   "cell_type": "code",
   "execution_count": 10,
   "metadata": {},
   "outputs": [
    {
     "name": "stdout",
     "output_type": "stream",
     "text": [
      "triage_vital_hr 78.0\n",
      "triage_vital_rr 16.0\n",
      "triage_vital_sbp 134.0\n",
      "triage_vital_dbp 78.0\n",
      "triage_vital_o2 97.0\n",
      "triage_vital_temp 97.8\n"
     ]
    }
   ],
   "source": []
  },
  {
   "cell_type": "code",
   "execution_count": null,
   "metadata": {},
   "outputs": [],
   "source": []
  }
 ],
 "metadata": {
  "kernelspec": {
   "display_name": ".venv",
   "language": "python",
   "name": "python3"
  },
  "language_info": {
   "codemirror_mode": {
    "name": "ipython",
    "version": 3
   },
   "file_extension": ".py",
   "mimetype": "text/x-python",
   "name": "python",
   "nbconvert_exporter": "python",
   "pygments_lexer": "ipython3",
   "version": "3.11.2"
  }
 },
 "nbformat": 4,
 "nbformat_minor": 2
}
